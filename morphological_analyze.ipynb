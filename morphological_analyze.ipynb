{
 "cells": [
  {
   "cell_type": "code",
   "execution_count": null,
   "metadata": {},
   "outputs": [],
   "source": [
    "with open(\"maihime.txt\", mode=\"r\", encoding=\"utf-8\") as f:\n",
    "    maihime_original = f.read()\n",
    "\n",
    "print(maihime_original)\n",
    "\n",
    "maihime=re.sub(\"《[^》]+》\", \"\", maihime_original)\n"
   ]
  }
 ],
 "metadata": {
  "language_info": {
   "name": "python"
  },
  "orig_nbformat": 4
 },
 "nbformat": 4,
 "nbformat_minor": 2
}
